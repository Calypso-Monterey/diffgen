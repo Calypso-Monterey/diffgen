{
 "cells": [
  {
   "cell_type": "markdown",
   "id": "56588af7",
   "metadata": {},
   "source": [
    "# Satellite Data Visualization\n",
    "\n",
    "**Tutorial Leads:** Carina Poulin (NASA, SSAI), Ian Carroll (NASA, UMBC) and Sean Foley (NASA, MSU)\n",
    "\n",
    "<div class=\"alert alert-success\" role=\"alert\">\n",
    "\n",
    "The following notebooks are **prerequisites** for this tutorial:\n",
    "\n",
    "- [Earthdata Cloud Access](../earthdata_cloud_access)\n",
    "\n",
    "</div>\n",
    "\n",
    "## Summary\n",
    "\n",
    "This is an introductory tutorial to the visualization possibilities arising from PACE data, meant to give you ideas and tools to develop your own scientific data visualizations.\n",
    "\n",
    "## Learning Objectives\n",
    "\n",
    "At the end of this notebook you will know:\n",
    "\n",
    "- How to create an easy global map from OCI data from the cloud\n",
    "- How to create a true-color image from OCI data processed with OCSSW\n",
    "- How to make a false color image to look at clouds\n",
    "- How to make an interactive tool to explore OCI data\n",
    "- What goes into an animation of multi-angular HARP2 data\n",
    "\n",
    "## Contents\n",
    "\n",
    "1. [Setup](#1.-Setup)\n",
    "2. [Easy Global Chlorophyll-a Map](#2.-Easy-Global-Chlorophyll-a-Map)\n",
    "3. [Global Oceans in Quasi True Color](#3.-Global-Oceans-in-Quasi-True-Color)\n",
    "4. [Complete Scene in True Color](#4.-Complete-Scene-in-True-Color)\n",
    "5. [False Color for Ice Clouds](#5.-False-Color-for-Ice-Clouds)\n",
    "6. [Phytoplankton in False Color](#6.-Phytoplankton-in-False-Color)\n",
    "7. [Full Spectra from Global Oceans](#7.-Full-Spectra-from-Global-Oceans)\n",
    "8. [Animation from Multiple Angles](#8.-Animation-from-Multiple-Angles)"
   ]
  },
  {
   "cell_type": "markdown",
   "id": "46e2d1f4",
   "metadata": {},
   "source": [
    "## 1. Setup\n",
    "\n",
    "Begin by importing all of the packages used in this notebook. If your kernel uses an environment defined following the guidance on the [tutorials] page, then the imports will be successful.\n",
    "\n",
    "[tutorials]: https://oceancolor.gsfc.nasa.gov/resources/docs/tutorials/"
   ]
  },
  {
   "cell_type": "code",
   "execution_count": null,
   "id": "cbd8bc47",
   "metadata": {},
   "outputs": [],
   "source": [
    "import os\n",
    "\n",
    "from holoviews.streams import Tap\n",
    "from matplotlib import animation\n",
    "from matplotlib.colors import ListedColormap\n",
    "from PIL import Image, ImageEnhance\n",
    "from scipy.ndimage import gaussian_filter1d\n",
    "from xarray.backends.api import open_datatree\n",
    "import cartopy.crs as ccrs\n",
    "import cmocean\n",
    "import earthaccess\n",
    "import holoviews as hv\n",
    "import matplotlib.pyplot as plt\n",
    "import matplotlib.pylab as pl\n",
    "import numpy as np\n",
    "import panel.widgets as pnw\n",
    "import xarray as xr"
   ]
  },
  {
   "cell_type": "code",
   "execution_count": null,
   "id": "571fd8e6",
   "metadata": {},
   "outputs": [],
   "source": [
    "options = xr.set_options(display_expand_attrs=False)"
   ]
  },
  {
   "cell_type": "markdown",
   "id": "f32a5635",
   "metadata": {},
   "source": [
    "In this tutorial, we suppress runtime warnings that show up when calculating log for negative values, which is common with our datasets. "
   ]
  },
  {
   "cell_type": "markdown",
   "id": "37c36502",
   "metadata": {},
   "source": [
    "Define a function to apply enhancements, our own plus generic image enhancements from the Pillow package."
   ]
  },
  {
   "cell_type": "code",
   "execution_count": null,
   "id": "3e44e7aa",
   "metadata": {},
   "outputs": [],
   "source": [
    "def enhance(rgb, scale = 0.01, vmin = 0.01, vmax = 1.04, gamma=0.95, contrast=1.2, brightness=1.02, sharpness=2, saturation=1.1):\n",
    "    \"\"\"The SeaDAS recipe for RGB images from Ocean Color missions.\n",
    "\n",
    "    Args:\n",
    "        rgb: a data array with three dimensions, having 3 or 4 bands in the third dimension\n",
    "        scale: scale value for the log transform\n",
    "        vmin: minimum pixel value for the image\n",
    "        vmax: maximum pixel value for the image\n",
    "        gamma: exponential factor for gamma correction\n",
    "        contrast: amount of pixel value differentiation \n",
    "        brightness: pixel values (intensity)\n",
    "        sharpness: amount of detail\n",
    "        saturation: color intensity\n",
    "\n",
    "    Returns:\n",
    "       a transformed data array better for RGB display\n",
    "    \"\"\"\n",
    "    rgb = rgb.where(rgb > 0)\n",
    "    rgb = np.log(rgb / scale) / np.log(1 / scale)\n",
    "    rgb = rgb.where(rgb >= vmin, vmin)\n",
    "    rgb = rgb.where(rgb <= vmax, vmax)    \n",
    "    rgb_min = rgb.min((\"number_of_lines\", \"pixels_per_line\"))\n",
    "    rgb_max = rgb.max((\"number_of_lines\", \"pixels_per_line\"))\n",
    "    rgb = (rgb - rgb_min) / (rgb_max - rgb_min)\n",
    "    rgb = rgb * gamma\n",
    "    img = rgb * 255\n",
    "    img = img.where(img.notnull(), 0).astype(\"uint8\")\n",
    "    img = Image.fromarray(img.data)\n",
    "    enhancer = ImageEnhance.Contrast(img)\n",
    "    img = enhancer.enhance(contrast)\n",
    "    enhancer = ImageEnhance.Brightness(img)\n",
    "    img = enhancer.enhance(brightness)\n",
    "    enhancer = ImageEnhance.Sharpness(img)\n",
    "    img = enhancer.enhance(sharpness)\n",
    "    enhancer = ImageEnhance.Color(img)\n",
    "    img = enhancer.enhance(saturation)\n",
    "    rgb[:] = np.array(img) / 255\n",
    "    return rgb\n",
    "\n",
    "def enhancel3(rgb, scale = .01, vmin = 0.01, vmax = 1.02, gamma=.95, contrast=1.5, brightness=1.02, sharpness=2, saturation=1.1):\n",
    "   \n",
    "    rgb = rgb.where(rgb > 0)\n",
    "    rgb = np.log(rgb / scale) / np.log(1 / scale)\n",
    "    rgb = (rgb -  rgb.min()) / (rgb.max() - rgb.min())\n",
    "    rgb = rgb * gamma\n",
    "    img = rgb * 255\n",
    "    img = img.where(img.notnull(), 0).astype(\"uint8\")\n",
    "    img = Image.fromarray(img.data)\n",
    "    enhancer = ImageEnhance.Contrast(img)\n",
    "    img = enhancer.enhance(contrast)\n",
    "    enhancer = ImageEnhance.Brightness(img)\n",
    "    img = enhancer.enhance(brightness)\n",
    "    enhancer = ImageEnhance.Sharpness(img)\n",
    "    img = enhancer.enhance(sharpness)\n",
    "    enhancer = ImageEnhance.Color(img)\n",
    "    img = enhancer.enhance(saturation)\n",
    "    rgb[:] = np.array(img) / 255    \n",
    "    return rgb\n",
    "\n",
    "def pcolormesh(rgb):\n",
    "    fig = plt.figure()\n",
    "    axes = plt.subplot()\n",
    "    artist = axes.pcolormesh(\n",
    "        rgb[\"longitude\"],\n",
    "        rgb[\"latitude\"],\n",
    "        rgb,\n",
    "        shading=\"nearest\",\n",
    "        rasterized=True,\n",
    "    )\n",
    "    axes.set_aspect(\"equal\")"
   ]
  },
  {
   "cell_type": "markdown",
   "id": "ef97a8d7",
   "metadata": {},
   "source": [
    "[back to top](#Contents)"
   ]
  },
  {
   "cell_type": "markdown",
   "id": "5d91536b",
   "metadata": {},
   "source": [
    "## 2. Easy Global Chlorophyll-a Map"
   ]
  },
  {
   "cell_type": "markdown",
   "id": "186774e9",
   "metadata": {},
   "source": [
    "Let's start with the most basic visualization. First, get level-3 chlorophyll map product, which is already gridded on latitudes and longitudes. "
   ]
  },
  {
   "cell_type": "code",
   "execution_count": null,
   "id": "bfbd66d5",
   "metadata": {},
   "outputs": [],
   "source": [
    "results = earthaccess.search_data(\n",
    "    short_name=\"PACE_OCI_L3M_CHL_NRT\",\n",
    "    granule_name=\"*.MO.*.0p1deg.*\",\n",
    ")\n",
    "paths = earthaccess.open(results)"
   ]
  },
  {
   "cell_type": "code",
   "execution_count": null,
   "id": "07348e11",
   "metadata": {},
   "outputs": [],
   "source": [
    "dataset = xr.open_dataset(paths[-1])\n",
    "chla = dataset[\"chlor_a\"]"
   ]
  },
  {
   "cell_type": "markdown",
   "id": "d377db3b",
   "metadata": {},
   "source": [
    "Now we can already create a global map. Let's use a special colormap from `cmocean` to be fancy, but this is not necessary to make a basic map. Use the `robust=\"true\"` option to remove outliers. "
   ]
  },
  {
   "cell_type": "code",
   "execution_count": null,
   "id": "f1348b0d",
   "metadata": {},
   "outputs": [],
   "source": [
    "artist = chla.plot(cmap=cmocean.cm.algae, robust=\"true\")\n",
    "plt.gca().set_aspect(\"equal\")"
   ]
  },
  {
   "cell_type": "markdown",
   "id": "981f8dc7",
   "metadata": {},
   "source": [
    "## 3. Global Oceans in Quasi True Color"
   ]
  },
  {
   "cell_type": "markdown",
   "id": "0131f3de",
   "metadata": {},
   "source": [
    "True color images use three bands to create a RGB image. Let's still use a level-3 mapped product, this time we use the remote-sensing reflectance (Rrs) product. "
   ]
  },
  {
   "cell_type": "code",
   "execution_count": null,
   "id": "7202dba8",
   "metadata": {},
   "outputs": [],
   "source": [
    "results = earthaccess.search_data(\n",
    "    short_name=\"PACE_OCI_L3M_RRS_NRT\",\n",
    "    granule_name=\"*.MO.*.0p1deg.*\",\n",
    ")\n",
    "paths = earthaccess.open(results)"
   ]
  },
  {
   "cell_type": "markdown",
   "id": "43640bc2",
   "metadata": {},
   "source": [
    "The Level-3 Mapped files have no groups and have variables that XArray recognizes as \"coordinates\":\n",
    "variables that are named after their only dimension."
   ]
  },
  {
   "cell_type": "code",
   "execution_count": null,
   "id": "f3d16533",
   "metadata": {},
   "outputs": [],
   "source": [
    "dataset = xr.open_dataset(paths[-1])"
   ]
  },
  {
   "cell_type": "markdown",
   "id": "f09258d1",
   "metadata": {},
   "source": [
    "Look at all the wavelentghs available!"
   ]
  },
  {
   "cell_type": "code",
   "execution_count": null,
   "id": "05423575",
   "metadata": {},
   "outputs": [],
   "source": [
    "dataset[\"wavelength\"].data"
   ]
  },
  {
   "cell_type": "markdown",
   "id": "1194044d",
   "metadata": {},
   "source": [
    "For a true color image, choose three wavelengths to represent the \"Red\", \"Green\", and \"Blue\"\n",
    "channels used to make true color images."
   ]
  },
  {
   "cell_type": "code",
   "execution_count": null,
   "id": "670174ee",
   "metadata": {},
   "outputs": [],
   "source": [
    "rrs_rgb = dataset[\"Rrs\"].sel({\"wavelength\": [645, 555, 368]})\n",
    "rrs_rgb"
   ]
  },
  {
   "cell_type": "markdown",
   "id": "4ee9a7da",
   "metadata": {},
   "source": [
    "It is always a good practice to build meaningful labels into the dataset, and we'll see next\n",
    "that it can be very useful as we learn to use metadata while creating visualizations.\n",
    "\n",
    "For this case, we can attach another variable called \"channel\" and then swap it with\n",
    "\"wavelength\" to become the third dimension of the data array. We'll actually use these\n",
    "values for a choice of `cmap` below, just for fun."
   ]
  },
  {
   "cell_type": "code",
   "execution_count": null,
   "id": "3e37e92d",
   "metadata": {},
   "outputs": [],
   "source": [
    "rrs_rgb[\"channel\"] = (\"wavelength\", [\"Reds\", \"Greens\", \"Blues\"])\n",
    "rrs_rgb = rrs_rgb.swap_dims({\"wavelength\": \"channel\"})\n",
    "rrs_rgb"
   ]
  },
  {
   "cell_type": "markdown",
   "id": "ee653fc8",
   "metadata": {},
   "source": [
    "A complicated figure can be assembled fairly easily using the `xarray.Dataset.plot` method,\n",
    "which draws on the matplotlib package. For Level-3 data, we can specifically use `imshow`\n",
    "to visualize the RGB image on the `lat` and `lon` coordinates."
   ]
  },
  {
   "cell_type": "code",
   "execution_count": null,
   "id": "472d1d22",
   "metadata": {},
   "outputs": [],
   "source": [
    "fig, axs = plt.subplots(3, 1, figsize=(8, 7), sharex=True)\n",
    "for i, item in enumerate(rrs_rgb[\"channel\"]):\n",
    "    array = rrs_rgb.sel({\"channel\": item})\n",
    "    array.plot.imshow(x=\"lon\", y=\"lat\", cmap=item.item(), ax=axs[i], robust=True)\n",
    "    axs[i].set_aspect(\"equal\")\n",
    "fig.tight_layout()\n",
    "plt.show()"
   ]
  },
  {
   "cell_type": "markdown",
   "id": "0913770f",
   "metadata": {},
   "source": [
    "We use the `enhancel3` function defined at the start of the tutorial to make adjusments to the image. "
   ]
  },
  {
   "cell_type": "code",
   "execution_count": null,
   "id": "14c07ffa",
   "metadata": {},
   "outputs": [],
   "source": [
    "rrs_rgb_enhanced = enhancel3(rrs_rgb)"
   ]
  },
  {
   "cell_type": "markdown",
   "id": "ce8f6df4",
   "metadata": {},
   "source": [
    "And we create the image using the `imshow` function. "
   ]
  },
  {
   "cell_type": "code",
   "execution_count": null,
   "id": "4c32003f",
   "metadata": {},
   "outputs": [],
   "source": [
    "artist = rrs_rgb_enhanced.plot.imshow(x=\"lon\", y=\"lat\")\n",
    "plt.gca().set_aspect(\"equal\")"
   ]
  },
  {
   "cell_type": "markdown",
   "id": "56aadff6",
   "metadata": {},
   "source": [
    "Finally, we can add a grid and coastlines to the map with `cartopy` tools. "
   ]
  },
  {
   "cell_type": "code",
   "execution_count": null,
   "id": "6a3e8fbb",
   "metadata": {},
   "outputs": [],
   "source": [
    "fig = plt.figure(figsize=(7, 5))\n",
    "ax = plt.axes(projection=ccrs.PlateCarree())\n",
    "artist = rrs_rgb_enhanced.plot.imshow(x=\"lon\", y=\"lat\")\n",
    "ax.gridlines(draw_labels={\"left\": \"y\", \"bottom\": \"x\"}, color=\"white\", linewidth=0.3)\n",
    "ax.coastlines(color=\"white\", linewidth=1)\n",
    "plt.show()"
   ]
  },
  {
   "cell_type": "markdown",
   "id": "45a3ad0b",
   "metadata": {},
   "source": [
    "[back to top](#Contents)"
   ]
  },
  {
   "cell_type": "markdown",
   "id": "8829376c",
   "metadata": {},
   "source": [
    "## 4. Complete Scene in True Color"
   ]
  },
  {
   "cell_type": "markdown",
   "id": "c6b30e29",
   "metadata": {},
   "source": [
    "The best product to create a high-quality true-color image from PACE is the Surface Reflectance (rhos). Cloud-masked rhos are distributed in the SFREFL product suite. If you want to create an image that includes clouds, however, you need to process a Level-1B file to Level-2 using l2gen, like we will show in the OCSSW data processing exercise.\n",
    "\n",
    "All files created by a PACE Hackweek tutorial can be found in the `/shared/pace-hackweek-2024/` folder accessible from the JupyterLab file browser. In this tutorial, we'll use a Level-2 file created in advance. Note that the JupyterLab file browser treats `/home/jovyan` (that's your home directory, Jovyan) as the root of the browsable file system."
   ]
  },
  {
   "cell_type": "code",
   "execution_count": null,
   "id": "ee071ffc",
   "metadata": {},
   "outputs": [],
   "source": [
    "path = \"/home/jovyan/shared/pace-hackweek-2024/PACE_OCI.20240605T092137.L2_SFREFL.V2.nc\"\n",
    "datatree = open_datatree(path)\n",
    "dataset = xr.merge(datatree.to_dict().values())\n",
    "dataset"
   ]
  },
  {
   "cell_type": "markdown",
   "id": "25a65099",
   "metadata": {},
   "source": [
    "The longitude and latitude variables are geolocation arrays, and while they are spatial\n",
    "coordinates they cannot be set as an index on the dataset because each array is itself\n",
    "two-dimensional. The rhos are not on a rectangular grid, but it is still useful to tell\n",
    "XArray what will become axis labels."
   ]
  },
  {
   "cell_type": "code",
   "execution_count": null,
   "id": "913efb78",
   "metadata": {},
   "outputs": [],
   "source": [
    "dataset = dataset.set_coords((\"longitude\", \"latitude\"))\n",
    "dataset"
   ]
  },
  {
   "cell_type": "markdown",
   "id": "6add0236",
   "metadata": {},
   "source": [
    "We then select the three wavelenghts that will become the red, green and blue chanels in our image. "
   ]
  },
  {
   "cell_type": "code",
   "execution_count": null,
   "id": "4ebbc60e",
   "metadata": {},
   "outputs": [],
   "source": [
    "rhos_rgb = dataset[\"rhos\"].sel({\"wavelength_3d\": [645, 555, 368]})\n",
    "rhos_rgb"
   ]
  },
  {
   "cell_type": "markdown",
   "id": "7a923c64",
   "metadata": {},
   "source": [
    "We are ready to have a look at our image. The most simple adjustment is normalization of the range across the three RGB channels."
   ]
  },
  {
   "cell_type": "code",
   "execution_count": null,
   "id": "f85852c8",
   "metadata": {},
   "outputs": [],
   "source": [
    "rhos_rgb_max = rhos_rgb.max()\n",
    "rhos_rgb_min = rhos_rgb.min()\n",
    "rhos_rgb_enhanced = (rhos_rgb - rhos_rgb_min) / (rhos_rgb_max - rhos_rgb_min)"
   ]
  },
  {
   "cell_type": "markdown",
   "id": "18d8a2c3",
   "metadata": {},
   "source": [
    "To visualize these data, we have to use the fairly smart `pcolormesh` artists, which interprets\n",
    "the geolocation arrays as pixel centers. TODO: why the warning, though?"
   ]
  },
  {
   "cell_type": "code",
   "execution_count": null,
   "id": "e75436a3",
   "metadata": {},
   "outputs": [],
   "source": [
    "pcolormesh(rhos_rgb_enhanced)"
   ]
  },
  {
   "cell_type": "markdown",
   "id": "5bed1ce8",
   "metadata": {},
   "source": [
    "Let's have a look at the image's histogram that shows the pixel intensity value distribution across the image. Here, we can see that the values are skewed towards the low intensities, which makes the image dark. "
   ]
  },
  {
   "cell_type": "code",
   "execution_count": null,
   "id": "5023c441",
   "metadata": {},
   "outputs": [],
   "source": [
    "rhos_rgb_enhanced.plot.hist()"
   ]
  },
  {
   "cell_type": "markdown",
   "id": "907f9dc8",
   "metadata": {},
   "source": [
    "Another type of enhancement involves a logarithmic transform of the data before normalizing to the unit range."
   ]
  },
  {
   "cell_type": "code",
   "execution_count": null,
   "id": "fd9d0ac5",
   "metadata": {},
   "outputs": [],
   "source": [
    "rhos_rgb_enhanced = rhos_rgb.where(rhos_rgb > 0, np.nan)\n",
    "rhos_rgb_enhanced = np.log(rhos_rgb_enhanced / 0.01) / np.log(1 / 0.01)\n",
    "rhos_rgb_max = rhos_rgb_enhanced.max()\n",
    "rhos_rgb_min = rhos_rgb_enhanced.min()\n",
    "rhos_rgb_enhanced = (rhos_rgb_enhanced - rhos_rgb_min) / (rhos_rgb_max - rhos_rgb_min)\n",
    "pcolormesh(rhos_rgb_enhanced)"
   ]
  },
  {
   "cell_type": "markdown",
   "id": "98047cb0",
   "metadata": {},
   "source": [
    "Perhaps it is better to do the unit normalization independently for each channel? We can use\n",
    "XArray's ability to use and align labelled dimensions for the calculation."
   ]
  },
  {
   "cell_type": "code",
   "execution_count": null,
   "id": "87ca6de5",
   "metadata": {},
   "outputs": [],
   "source": [
    "rhos_rgb_max = rhos_rgb.max((\"number_of_lines\", \"pixels_per_line\"))\n",
    "rhos_rgb_min = rhos_rgb.min((\"number_of_lines\", \"pixels_per_line\"))\n",
    "rhos_rgb_enhanced = (rhos_rgb - rhos_rgb_min) / (rhos_rgb_max - rhos_rgb_min)\n",
    "pcolormesh(rhos_rgb_enhanced)"
   ]
  },
  {
   "cell_type": "markdown",
   "id": "a098400b",
   "metadata": {},
   "source": [
    "Let's go back to the log-transformed image, but this time adjust the minimum and maximum pixel values `vmin` and `vmax`. "
   ]
  },
  {
   "cell_type": "code",
   "execution_count": null,
   "id": "0e3fc6fe",
   "metadata": {},
   "outputs": [],
   "source": [
    "rhos_rgb_enhanced = rhos_rgb.where(rhos_rgb > 0, np.nan)\n",
    "rhos_rgb_enhanced = np.log(rhos_rgb_enhanced / 0.01) / np.log(1 / 0.01)"
   ]
  },
  {
   "cell_type": "code",
   "execution_count": null,
   "id": "664e5e71",
   "metadata": {},
   "outputs": [],
   "source": [
    "vmin = 0.01\n",
    "vmax = 1.04\n",
    "\n",
    "rhos_rgb_enhanced = rhos_rgb_enhanced.where(rhos_rgb_enhanced <= vmax, vmax)\n",
    "rhos_rgb_enhanced = rhos_rgb_enhanced.where(rhos_rgb_enhanced >= vmin, vmin)"
   ]
  },
  {
   "cell_type": "code",
   "execution_count": null,
   "id": "c6235bf3",
   "metadata": {},
   "outputs": [],
   "source": [
    "rhos_rgb_max = rhos_rgb.max((\"number_of_lines\", \"pixels_per_line\"))\n",
    "rhos_rgb_min = rhos_rgb.min((\"number_of_lines\", \"pixels_per_line\"))\n",
    "rhos_rgb_enhanced = (rhos_rgb_enhanced - rhos_rgb_min) / (rhos_rgb_max - rhos_rgb_min)\n",
    "pcolormesh(rhos_rgb_enhanced)"
   ]
  },
  {
   "cell_type": "markdown",
   "id": "08ba1f2b",
   "metadata": {},
   "source": [
    "This image looks much more balanced. The histogram is also going to indicate this:"
   ]
  },
  {
   "cell_type": "code",
   "execution_count": null,
   "id": "bd563bc2",
   "metadata": {},
   "outputs": [],
   "source": [
    "rhos_rgb_enhanced.plot.hist()"
   ]
  },
  {
   "cell_type": "markdown",
   "id": "f15b6542",
   "metadata": {},
   "source": [
    "Everything we've been trying is already built into the `enhance` function, including extra goodies from the Pillow package of generic image processing filters."
   ]
  },
  {
   "cell_type": "code",
   "execution_count": null,
   "id": "deffcb10",
   "metadata": {},
   "outputs": [],
   "source": [
    "rhos_rgb_enhanced = enhance(rhos_rgb)\n",
    "pcolormesh(rhos_rgb_enhanced)"
   ]
  },
  {
   "cell_type": "markdown",
   "id": "a96a02b6",
   "metadata": {},
   "source": [
    "Since every image is unique, we can further adjust the parameters. "
   ]
  },
  {
   "cell_type": "code",
   "execution_count": null,
   "id": "d3b6eb01",
   "metadata": {},
   "outputs": [],
   "source": [
    "rhos_rgb_enhanced = enhance(rhos_rgb, contrast=1.2, brightness=1.1, saturation=0.8)\n",
    "pcolormesh(rhos_rgb_enhanced)"
   ]
  },
  {
   "cell_type": "markdown",
   "id": "e789ed78",
   "metadata": {},
   "source": [
    "[back to top](#Contents)"
   ]
  },
  {
   "cell_type": "markdown",
   "id": "c32afa56",
   "metadata": {},
   "source": [
    "## 5. False Color for Ice Clouds"
   ]
  },
  {
   "cell_type": "markdown",
   "id": "64278968",
   "metadata": {},
   "source": [
    "We can use the same RGB image method, this time with different bands, to create false-color images that highlight specific elements in an image. \n",
    "\n",
    "For example, using a combination of infrared bands can highlight ice clouds in the atmosphere, versus regular water vapor clouds. Let's try it:"
   ]
  },
  {
   "cell_type": "code",
   "execution_count": null,
   "id": "4453d501",
   "metadata": {},
   "outputs": [],
   "source": [
    "rhos_ice = dataset[\"rhos\"].sel({\"wavelength_3d\": [1618, 2131, 2258]})"
   ]
  },
  {
   "cell_type": "code",
   "execution_count": null,
   "id": "16925743",
   "metadata": {},
   "outputs": [],
   "source": [
    "rhos_ice_enhanced = enhance(rhos_ice, vmin=0, vmax=0.9, scale=.1, gamma =1, contrast=1, brightness=1, saturation=1)\n",
    "pcolormesh(rhos_ice_enhanced)"
   ]
  },
  {
   "cell_type": "markdown",
   "id": "666828b5",
   "metadata": {},
   "source": [
    "Here, the ice clouds are purple and water vapor clouds are white, like we can see in the northwestern region of the scene. "
   ]
  },
  {
   "cell_type": "markdown",
   "id": "6eb86c04",
   "metadata": {},
   "source": [
    "[back to top](#Contents)"
   ]
  },
  {
   "cell_type": "markdown",
   "id": "4fbfce3a",
   "metadata": {},
   "source": [
    "## 6. Phytoplankton in False Color"
   ]
  },
  {
   "cell_type": "markdown",
   "id": "2b24b8fc",
   "metadata": {},
   "source": [
    "A uniquely innovative type of product from PACE is the phytoplankton community composition, using the MOANA algorithm. It gives the abundance of three types of plankton: picoeucaryotes, prochlorococcus and synechococcus. These products were used to create the first light image for PACE. Let's see how. \n",
    "\n",
    "We first open the dataset that is created with l2gen. This will be covered in the OCSSW tutorial. "
   ]
  },
  {
   "cell_type": "code",
   "execution_count": null,
   "id": "64e44dbd",
   "metadata": {},
   "outputs": [],
   "source": [
    "path = \"/home/jovyan/shared/pace-hackweek-2024/PACE_OCI.20240309T115927.L2_MOANA.V2.nc\"\n",
    "\n",
    "datatree = open_datatree(path)\n",
    "dataset = xr.merge(datatree.to_dict().values())\n",
    "dataset"
   ]
  },
  {
   "cell_type": "markdown",
   "id": "b8f75d43",
   "metadata": {},
   "source": [
    "We can see the MOANA products, RGB bands and other level-2 products in the dataset. We still need to set the spatial variables as coordinates of the dataset. "
   ]
  },
  {
   "cell_type": "code",
   "execution_count": null,
   "id": "4cf38b03",
   "metadata": {},
   "outputs": [],
   "source": [
    "dataset = dataset.set_coords((\"longitude\", \"latitude\"))"
   ]
  },
  {
   "cell_type": "markdown",
   "id": "15e3f955",
   "metadata": {},
   "source": [
    "Let's make a quick MOANA product plot to see if everything looks normal. "
   ]
  },
  {
   "cell_type": "code",
   "execution_count": null,
   "id": "69d64195",
   "metadata": {},
   "outputs": [],
   "source": [
    "artist = dataset[\"picoeuk_moana\"].plot(x=\"longitude\", y=\"latitude\", cmap=\"viridis\", vmin=0, robust=\"true\")\n",
    "plt.gca().set_aspect(\"equal\")"
   ]
  },
  {
   "cell_type": "markdown",
   "id": "c83726ee",
   "metadata": {},
   "source": [
    "Now we create a RGB image using our three rhos bands and the usual log-transform, vmin/vmax adjustments and normalization. We also project the map using cartopy. "
   ]
  },
  {
   "cell_type": "code",
   "execution_count": null,
   "id": "3d0f08fa",
   "metadata": {},
   "outputs": [],
   "source": [
    "# OCI True Color 1 band -min/max adjusted\n",
    "vmin = 0.01\n",
    "vmax = 1.04 # Above 1 because whites can be higher than 1\n",
    "#---- \n",
    "\n",
    "rhos_red = dataset[\"rhos_645\"]\n",
    "rhos_green = dataset[\"rhos_555\"]\n",
    "rhos_blue = dataset[\"rhos_465\"]\n",
    "red = np.log(rhos_red/0.01)/np.log(1/0.01)\n",
    "green = np.log(rhos_green/0.01)/np.log(1/0.01)\n",
    "blue = np.log(rhos_blue/0.01)/np.log(1/0.01)\n",
    "red = red.where((red >= vmin) & (red <= vmax), vmin, vmax)\n",
    "green = green.where((green >= vmin) & (green <= vmax), vmin, vmax)\n",
    "blue = blue.where((blue >= vmin) & (blue <= vmax), vmin, vmax)\n",
    "rgb = np.dstack((red, green, blue))\n",
    "rgb = (rgb -  np.nanmin(rgb)) / (np.nanmax(rgb) - np.nanmin(rgb)) #normalize\n",
    "\n",
    "fig = plt.figure(figsize=(5, 5))\n",
    "axes = fig.add_subplot(projection=ccrs.PlateCarree())\n",
    "artist = axes.imshow(\n",
    "    rgb,\n",
    "    extent=(dataset.longitude.min(), dataset.longitude.max(), dataset.latitude.min(), dataset.latitude.max()),\n",
    "    origin='lower',\n",
    "    transform=ccrs.PlateCarree(),\n",
    "    interpolation='none',\n",
    ")"
   ]
  },
  {
   "cell_type": "markdown",
   "id": "a4c17a03",
   "metadata": {},
   "source": [
    "We then enhance the image. "
   ]
  },
  {
   "cell_type": "code",
   "execution_count": null,
   "id": "8477c2b1",
   "metadata": {},
   "outputs": [],
   "source": [
    "# Image adjustments: change values from 0 to 2, 1 being unchanged\n",
    "contrast = 1.72\n",
    "brightness = 1 \n",
    "sharpness = 2\n",
    "saturation = 1.3\n",
    "gamma = .43\n",
    "#----\n",
    "\n",
    "normalized_image = (rgb - rgb.min()) / (rgb.max() - rgb.min())\n",
    "normalized_image = normalized_image** gamma\n",
    "normalized_image = (normalized_image* 255).astype(np.uint8)\n",
    "image_pil = Image.fromarray(normalized_image)\n",
    "enhancer = ImageEnhance.Contrast(image_pil)\n",
    "image_enhanced = enhancer.enhance(contrast)  \n",
    "enhancer = ImageEnhance.Brightness(image_enhanced)\n",
    "image_enhanced = enhancer.enhance(brightness)  \n",
    "enhancer = ImageEnhance.Sharpness(image_enhanced)\n",
    "image_enhanced = enhancer.enhance(sharpness)\n",
    "enhancer = ImageEnhance.Color(image_enhanced)\n",
    "image_enhanced = enhancer.enhance(saturation)\n",
    "enhanced_image_np = np.array(image_enhanced) / 255.0  # Normalize back to [0, 1] range\n",
    "\n",
    "fig = plt.figure(figsize=(5, 5))\n",
    "axes = plt.subplot(projection=ccrs.PlateCarree())\n",
    "extent=(dataset.longitude.min(), dataset.longitude.max(), dataset.latitude.min(), dataset.latitude.max())\n",
    "artist = axes.imshow(enhanced_image_np, extent=extent, origin='lower', transform=ccrs.PlateCarree(), alpha=1)"
   ]
  },
  {
   "cell_type": "markdown",
   "id": "80800e4b",
   "metadata": {},
   "source": [
    "We then project the MOANA products on the same grid. We can look at Synechococcus as an example. "
   ]
  },
  {
   "cell_type": "code",
   "execution_count": null,
   "id": "be77a334",
   "metadata": {},
   "outputs": [],
   "source": [
    "fig = plt.figure(figsize=(5, 5))\n",
    "axes = fig.add_subplot(projection=ccrs.PlateCarree())\n",
    "extent=(dataset.longitude.min(), dataset.longitude.max(), dataset.latitude.min(), dataset.latitude.max())\n",
    "artist = axes.imshow(dataset[\"syncoccus_moana\"], extent=extent, origin='lower', transform=ccrs.PlateCarree(), interpolation='none', cmap=\"Reds\", vmin=0, vmax=35000, alpha = 1)"
   ]
  },
  {
   "cell_type": "markdown",
   "id": "bf18e337",
   "metadata": {},
   "source": [
    "To layer the three products on our true-color image, we will add transparency to our colormaps for the three plankton products. Look at the Synechococcus product again."
   ]
  },
  {
   "cell_type": "code",
   "execution_count": null,
   "id": "65c6c1a3",
   "metadata": {},
   "outputs": [],
   "source": [
    "cmap_greens = pl.cm.Greens # Get original color map\n",
    "my_cmap_greens = cmap_greens(np.arange(cmap_greens.N)) \n",
    "my_cmap_greens[:,-1] = np.linspace(0, 1, cmap_greens.N) # Set alpha for transparency\n",
    "my_cmap_greens = ListedColormap(my_cmap_greens) # Create new colormap\n",
    "cmap_reds = pl.cm.Reds\n",
    "my_cmap_reds = cmap_reds(np.arange(cmap_reds.N))\n",
    "my_cmap_reds[:,-1] = np.linspace(0, 1, cmap_reds.N)\n",
    "my_cmap_reds = ListedColormap(my_cmap_reds)\n",
    "cmap_blues = pl.cm.Blues\n",
    "my_cmap_blues = cmap_blues(np.arange(cmap_blues.N))\n",
    "my_cmap_blues[:,-1] = np.linspace(0, 1, cmap_blues.N)\n",
    "my_cmap_blues = ListedColormap(my_cmap_blues)\n",
    "\n",
    "fig = plt.figure(figsize=(5, 5))\n",
    "axes = fig.add_subplot(projection=ccrs.PlateCarree())\n",
    "extent=(dataset.longitude.min(), dataset.longitude.max(), dataset.latitude.min(), dataset.latitude.max())\n",
    "artist = axes.imshow(dataset[\"syncoccus_moana\"], extent=extent, origin='lower', transform=ccrs.PlateCarree(), interpolation='none', cmap=my_cmap_reds, vmin=0, vmax=35000, alpha = 1)"
   ]
  },
  {
   "cell_type": "markdown",
   "id": "6fbd9461",
   "metadata": {},
   "source": [
    "We finally assemble the image using the plankton layers and the true-color base layer. "
   ]
  },
  {
   "cell_type": "code",
   "execution_count": null,
   "id": "ded0fb02",
   "metadata": {},
   "outputs": [],
   "source": [
    "fig = plt.figure(figsize=(7, 7))\n",
    "axes = plt.subplot(projection=ccrs.PlateCarree())\n",
    "extent=(dataset.longitude.min(), dataset.longitude.max(), dataset.latitude.min(), dataset.latitude.max())\n",
    "axes.imshow(enhanced_image_np, extent=extent, origin='lower', transform=ccrs.PlateCarree(), alpha=1)\n",
    "axes.imshow(dataset[\"prococcus_moana\"], extent=extent, origin='lower', transform=ccrs.PlateCarree(), interpolation='none', cmap=my_cmap_blues, vmin=0, vmax=300000, alpha = .5)\n",
    "axes.imshow(dataset[\"syncoccus_moana\"], extent=extent, origin='lower', transform=ccrs.PlateCarree(), interpolation='none', cmap=my_cmap_reds, vmin=0, vmax=20000, alpha = .5)\n",
    "axes.imshow(dataset[\"picoeuk_moana\"], extent=extent, origin='lower', transform=ccrs.PlateCarree(), interpolation='none', cmap=my_cmap_greens, vmin=0, vmax=50000, alpha = .5)\n",
    "plt.show()"
   ]
  },
  {
   "cell_type": "markdown",
   "id": "f6eb1126",
   "metadata": {},
   "source": [
    "[back to top](#Contents)"
   ]
  },
  {
   "cell_type": "markdown",
   "id": "dbede014",
   "metadata": {
    "lines_to_next_cell": 2
   },
   "source": [
    "## 7. Full Spectra from Global Oceans"
   ]
  },
  {
   "cell_type": "markdown",
   "id": "fe12ef67",
   "metadata": {},
   "source": [
    "<div class=\"alert alert-warning\" role=\"alert\">\n",
    "\n",
    "This section contains **interactive** plots that require a live Python kernel. Not all the widgets will work\n",
    "when viewing the notebook; the cells have to be executed and the kernel still running. Download the notebook\n",
    "and give it a try!\n",
    "\n",
    "</div>\n",
    "\n",
    "\n",
    "The holoview library and its bokeh extension allow us to explore datasets interactively."
   ]
  },
  {
   "cell_type": "code",
   "execution_count": null,
   "id": "8fa863d6",
   "metadata": {},
   "outputs": [],
   "source": [
    "hv.extension(\"bokeh\")"
   ]
  },
  {
   "cell_type": "markdown",
   "id": "061a2e59",
   "metadata": {},
   "source": [
    "Let's open a level 3 Rrs map. "
   ]
  },
  {
   "cell_type": "code",
   "execution_count": null,
   "id": "723f6106",
   "metadata": {},
   "outputs": [],
   "source": [
    "results = earthaccess.search_data(\n",
    "    short_name=\"PACE_OCI_L3M_RRS_NRT\",\n",
    "    granule_name=\"*.MO.*.1deg.*\",\n",
    ")\n",
    "paths = earthaccess.open(results)"
   ]
  },
  {
   "cell_type": "markdown",
   "id": "6629f0a1",
   "metadata": {},
   "source": [
    "We can create a map from a single band in the dataset and see the Rrs value by hovering over the map. "
   ]
  },
  {
   "cell_type": "code",
   "execution_count": null,
   "id": "291bdf0f",
   "metadata": {},
   "outputs": [],
   "source": [
    "dataset = xr.open_dataset(paths[-1])\n",
    "def single_band(w):\n",
    "    array = dataset.sel({\"wavelength\": w})\n",
    "    return hv.Image(array, kdims=[\"lon\", \"lat\"], vdims=[\"Rrs\"]).opts(aspect=\"equal\", frame_width=450, frame_height=250, tools=['hover'])"
   ]
  },
  {
   "cell_type": "code",
   "execution_count": null,
   "id": "46fa7416",
   "metadata": {},
   "outputs": [],
   "source": [
    "single_band(368)"
   ]
  },
  {
   "cell_type": "markdown",
   "id": "c35fe3bc",
   "metadata": {},
   "source": [
    "In order to explore the hyperspectral datasets from PACE, we can have a look at the Rrs Spectrum at a certain location. "
   ]
  },
  {
   "cell_type": "code",
   "execution_count": null,
   "id": "97e51c6d",
   "metadata": {},
   "outputs": [],
   "source": [
    "def spectrum(x, y):\n",
    "    array = dataset.sel({\"lon\": x, \"lat\": y}, method=\"nearest\")\n",
    "    return hv.Curve(array, kdims=[\"wavelength\"]).redim.range(Rrs=(-0.01, 0.04))"
   ]
  },
  {
   "cell_type": "code",
   "execution_count": null,
   "id": "a8570a7c",
   "metadata": {},
   "outputs": [],
   "source": [
    "spectrum(0, 0)"
   ]
  },
  {
   "cell_type": "markdown",
   "id": "68b5510f",
   "metadata": {},
   "source": [
    "Now we can build a truly interactive map with a slider to change the mapped band and a capability to show the spectrum where we click on the map. First, we build the slider and its interactivity with the map:"
   ]
  },
  {
   "cell_type": "code",
   "execution_count": null,
   "id": "3e52d7ee",
   "metadata": {},
   "outputs": [],
   "source": [
    "slider = pnw.DiscreteSlider(name=\"wavelength\", options=list(dataset[\"wavelength\"].data))\n",
    "band_dmap = hv.DynamicMap(single_band, streams={\"w\": slider.param.value})"
   ]
  },
  {
   "cell_type": "markdown",
   "id": "8de38d65",
   "metadata": {},
   "source": [
    "Then we build the capability to show the Rrs spectrum at the point where we click on the map."
   ]
  },
  {
   "cell_type": "code",
   "execution_count": null,
   "id": "a365e5f6",
   "metadata": {},
   "outputs": [],
   "source": [
    "points = hv.Points([])\n",
    "tap = Tap(source=points, x=0, y=0)\n",
    "spectrum_dmap = hv.DynamicMap(spectrum, streams=[tap])"
   ]
  },
  {
   "cell_type": "markdown",
   "id": "d0c9d267",
   "metadata": {},
   "source": [
    "Now try it!"
   ]
  },
  {
   "cell_type": "code",
   "execution_count": null,
   "id": "69b3e2fc",
   "metadata": {},
   "outputs": [],
   "source": [
    "slider"
   ]
  },
  {
   "cell_type": "code",
   "execution_count": null,
   "id": "bea0d29c",
   "metadata": {},
   "outputs": [],
   "source": [
    "(band_dmap * points + spectrum_dmap).opts(shared_axes=False)"
   ]
  },
  {
   "cell_type": "markdown",
   "id": "d7ade11a",
   "metadata": {},
   "source": [
    "[back to top](#Contents)"
   ]
  },
  {
   "cell_type": "markdown",
   "id": "bc64b409",
   "metadata": {},
   "source": [
    "## 8. Animation from Multiple Angles\n",
    "\n",
    "Let's look at the multi-angular datasets from HARP2. First, download some HARP2 Level-1C data using the short_name value \"PACE_HARP2_L1C_SCI\" in earthaccess.search_data. Level-1C corresponds to geolocated imagery. This means the imagery coming from the satellite has been calibrated and assigned to locations on the Earth's surface.\n"
   ]
  },
  {
   "cell_type": "code",
   "execution_count": null,
   "id": "7df812d2",
   "metadata": {},
   "outputs": [],
   "source": [
    "tspan = (\"2024-05-20\", \"2024-05-20\")\n",
    "results = earthaccess.search_data(\n",
    "    short_name=\"PACE_HARP2_L1C_SCI\",\n",
    "    temporal=tspan,\n",
    "    count=1,\n",
    ")"
   ]
  },
  {
   "cell_type": "code",
   "execution_count": null,
   "id": "fd59169a",
   "metadata": {},
   "outputs": [],
   "source": [
    "paths = earthaccess.open(results)"
   ]
  },
  {
   "cell_type": "code",
   "execution_count": null,
   "id": "e31954ef",
   "metadata": {},
   "outputs": [],
   "source": [
    "prod = xr.open_dataset(paths[0])\n",
    "view = xr.open_dataset(paths[0], group=\"sensor_views_bands\").squeeze()\n",
    "geo = xr.open_dataset(paths[0], group=\"geolocation_data\").set_coords([\"longitude\", \"latitude\"])\n",
    "obs = xr.open_dataset(paths[0], group=\"observation_data\").squeeze()"
   ]
  },
  {
   "cell_type": "markdown",
   "id": "ac214cf5",
   "metadata": {},
   "source": [
    "The `prod` dataset, as usual for OB.DAAC products, contains attributes but no variables. Merge it with the \"observation_data\" and \"geolocation_data\", setting latitude and longitude as auxiliary (e.e. non-index) coordinates, to get started."
   ]
  },
  {
   "cell_type": "code",
   "execution_count": null,
   "id": "25419da1",
   "metadata": {},
   "outputs": [],
   "source": [
    "dataset = xr.merge((prod, obs, geo))\n",
    "dataset"
   ]
  },
  {
   "cell_type": "markdown",
   "id": "8ea29f05",
   "metadata": {},
   "source": [
    "### Understanding Multi-Angle Data\n",
    "\n",
    "HARP2 is a multi-spectral sensor, like OCI, with 4 spectral bands. These roughly correspond to green, red, near infrared (NIR), and blue (in that order). HARP2 is also multi-angle. These angles are with respect to the satellite track. Essentially, HARP2 is always looking ahead, looking behind, and everywhere in between. The number of angles varies per sensor. The red band has 60 angles, while the green, blue, and NIR bands each have 10.\n",
    "\n",
    "In the HARP2 data, the angles and the spectral bands are combined into one axis. I'll refer to this combined axis as HARP2's \"channels.\" Below, we'll make a quick plot both the viewing angles and the wavelengths of HARP2's channels. In both plots, the x-axis is simply the channel index.\n",
    "\n",
    "Pull out the view angles and wavelengths."
   ]
  },
  {
   "cell_type": "code",
   "execution_count": null,
   "id": "6c6921f3",
   "metadata": {},
   "outputs": [],
   "source": [
    "angles = view[\"sensor_view_angle\"]\n",
    "wavelengths = view[\"intensity_wavelength\"]"
   ]
  },
  {
   "cell_type": "markdown",
   "id": "46f1cfcd",
   "metadata": {},
   "source": [
    "### Radiance to Reflectance\n",
    "\n",
    "We can convert radiance into reflectance. For a more in-depth explanation, see [here](https://seadas.gsfc.nasa.gov/help-9.0.0/rad2refl/Rad2ReflAlgorithmSpecification.html#:~:text=Radiance%20is%20the%20variable%20directly,it%2C%20and%20it%20is%20dimensionless). This conversion compensates for the differences in appearance due to the viewing angle and sun angle. Write the conversion as a function, because you may need to repeat it."
   ]
  },
  {
   "cell_type": "code",
   "execution_count": null,
   "id": "30a29604",
   "metadata": {},
   "outputs": [],
   "source": [
    "def rad_to_refl(rad, f0, sza, r):\n",
    "    \"\"\"Convert radiance to reflectance.\n",
    "    \n",
    "    Args:\n",
    "        rad: Radiance.\n",
    "        f0: Solar irradiance.\n",
    "        sza: Solar zenith angle.\n",
    "        r: Sun-Earth distance (in AU).\n",
    "\n",
    "    Returns: Reflectance.\n",
    "    \"\"\"\n",
    "    return (r**2) * np.pi * rad / np.cos(sza * np.pi / 180) / f0"
   ]
  },
  {
   "cell_type": "markdown",
   "id": "eb6c3c35",
   "metadata": {},
   "source": [
    "The difference in appearance (after matplotlib automatically normalizes the data) is negligible, but the difference in the physical meaning of the array values is quite important."
   ]
  },
  {
   "cell_type": "code",
   "execution_count": null,
   "id": "982ee09a",
   "metadata": {},
   "outputs": [],
   "source": [
    "refl = rad_to_refl(\n",
    "    rad=dataset[\"i\"],\n",
    "    f0=view[\"intensity_f0\"],\n",
    "    sza=dataset[\"solar_zenith_angle\"],\n",
    "    r=float(dataset.attrs[\"sun_earth_distance\"]),\n",
    ")"
   ]
  },
  {
   "cell_type": "markdown",
   "id": "895b7401",
   "metadata": {},
   "source": [
    "### Animating an Overpass\n",
    "\n",
    "<div class=\"alert alert-warning\" role=\"alert\">\n",
    "\n",
    "WARNING: there is some flickering in the animation displayed in this section.\n",
    "\n",
    "</div>\n",
    "\n",
    "All that is great for looking at a single angle at a time, but it doesn't capture the multi-angle nature of the instrument. Multi-angle data innately captures information about 3D structure. To get a sense of that, we'll make an animation of the scene with the 60 viewing angles available for the red band.\n",
    "\n",
    "We are going to generate this animation without using the latitude and longitude coordinates. If you use XArray's `plot` as above with coordinates, you could use a projection. However, that can be a little slow for all animation \"frames\" available with HARP2. This means there will be some stripes of what seems like missing data at certain angles. These stripes actually result from the gridding of the multi-angle data, and are not a bug."
   ]
  },
  {
   "cell_type": "markdown",
   "id": "07ec4954",
   "metadata": {},
   "source": [
    "Get the reflectances of just the red channel, and normalize the reflectance to lie between 0 and 1."
   ]
  },
  {
   "cell_type": "code",
   "execution_count": null,
   "id": "2ba0374e",
   "metadata": {},
   "outputs": [],
   "source": [
    "refl_red = refl[..., 10:70]\n",
    "refl_pretty = (refl_red - refl_red.min()) / (refl_red.max() - refl_red.min())"
   ]
  },
  {
   "cell_type": "markdown",
   "id": "32e27a23",
   "metadata": {},
   "source": [
    "A very mild Gaussian filter over the angular axis will improve the animation's smoothness."
   ]
  },
  {
   "cell_type": "code",
   "execution_count": null,
   "id": "c8ebd1ce",
   "metadata": {},
   "outputs": [],
   "source": [
    "refl_pretty.data = gaussian_filter1d(refl_pretty, sigma=0.5, truncate=2, axis=2)"
   ]
  },
  {
   "cell_type": "markdown",
   "id": "8da3542c",
   "metadata": {},
   "source": [
    "Raising the image to the power 2/3 will brighten it a little bit."
   ]
  },
  {
   "cell_type": "code",
   "execution_count": null,
   "id": "e59ecb87",
   "metadata": {},
   "outputs": [],
   "source": [
    "refl_pretty = refl_pretty ** (2 / 3)"
   ]
  },
  {
   "cell_type": "markdown",
   "id": "d530ee9e",
   "metadata": {},
   "source": [
    "Append all but the first and last frame in reverse order, to get a 'bounce' effect."
   ]
  },
  {
   "cell_type": "code",
   "execution_count": null,
   "id": "b2ef4fa6",
   "metadata": {},
   "outputs": [],
   "source": [
    "frames = np.arange(refl_pretty.sizes[\"number_of_views\"])\n",
    "frames = np.concatenate((frames, frames[-1::-1]))\n",
    "frames"
   ]
  },
  {
   "cell_type": "markdown",
   "id": "c21c6fdb",
   "metadata": {},
   "source": [
    "In order to display an animation in a Jupyter notebook, the \"backend\" for matplotlib has to be explicitly set to \"widget\"."
   ]
  },
  {
   "cell_type": "markdown",
   "id": "b9225bbf",
   "metadata": {},
   "source": [
    "Now we can use `matplotlib.animation` to create an initial plot, define a function to update that plot for each new frame, and show the resulting animation. When we create the inital plot, we get back the object called `im` below. This object is an instance of `matplotlib.artist.Artist` and is responsible for rendering data on the axes. Our `update` function uses that artist's `set_data` method to leave everything in the plot the same other than the data used to make the image."
   ]
  },
  {
   "cell_type": "code",
   "execution_count": null,
   "id": "acf890a5",
   "metadata": {},
   "outputs": [],
   "source": [
    "fig, ax = plt.subplots()\n",
    "im = ax.imshow(refl_pretty[{\"number_of_views\": 0}], cmap=\"gray\")\n",
    "\n",
    "def update(i):\n",
    "    im.set_data(refl_pretty[{\"number_of_views\": i}])\n",
    "    return im\n",
    "\n",
    "an = animation.FuncAnimation(fig=fig, func=update, frames=frames, interval=30)\n",
    "filename = f'harp2_red_anim_{dataset.attrs[\"product_name\"].split(\".\")[1]}.gif'\n",
    "an.save(filename, writer=\"pillow\")\n",
    "plt.close()"
   ]
  },
  {
   "cell_type": "markdown",
   "id": "32082148",
   "metadata": {},
   "source": [
    "This scene is a great example of multi-layer clouds. You can use the parallax effect to distinguish between these layers.\n",
    "\n",
    "The [sunglint](https://en.wikipedia.org/wiki/Sunglint) is an obvious feature, but you can also make out the [opposition effect](https://en.wikipedia.org/wiki/Opposition_surge) on some of the clouds in the scene. These details would be far harder to identify without multiple angles!\n",
    "\n",
    "![A multi-angle HARP2 animation](../../img/harp2_red_anim_20240519T235950.gif)\n",
    "\n",
    "Notice the cell ends with `plt.close()` rather than the usual `plt.show()`. By default, `matplotlib` will not display an animation. To view the animation, we saved it as a file and displayed the result in the next cell. Alternatively, you could change the default by executing `%matplotlib widget`. The `widget` setting, which works in Jupyter Lab but not on a static website, you can use `plt.show()` as well as `an.pause()` and `an.resume()`."
   ]
  },
  {
   "cell_type": "markdown",
   "id": "f3799af0",
   "metadata": {},
   "source": [
    "[back to top](#Contents)"
   ]
  }
 ],
 "metadata": {
  "kernelspec": {
   "display_name": "Python 3 (ipykernel)",
   "language": "python",
   "name": "python3"
  },
  "language_info": {
   "codemirror_mode": {
    "name": "ipython",
    "version": 3
   },
   "file_extension": ".py",
   "mimetype": "text/x-python",
   "name": "python",
   "nbconvert_exporter": "python",
   "pygments_lexer": "ipython3",
   "version": "3.11.6"
  }
 },
 "nbformat": 4,
 "nbformat_minor": 5
}
