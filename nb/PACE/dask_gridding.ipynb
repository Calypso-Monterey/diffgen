{
 "cells": [
  {
   "cell_type": "markdown",
   "id": "acd9706c",
   "metadata": {},
   "source": [
    "# Parallel and Larger-than-Memory Processing\n",
    "\n",
    "**Authors:** Ian Carroll (NASA, UMBC)\n",
    "\n",
    "<div class=\"alert alert-success\" role=\"alert\">\n",
    "\n",
    "The following notebooks are **prerequisites** for this tutorial.\n",
    "\n",
    "- Learn with OCI: [Data Access][oci-data-access]\n",
    "- Learn with OCI: [Processing with Command-line Tools][oci-ocssw-processing]\n",
    "\n",
    "</div>\n",
    "\n",
    "## Summary\n",
    "\n",
    "Processing a whole collection of Ocean Color Instrument (OCI) granules, or even big subsets of that collection,\n",
    "requires breaking up one big job into many small jobs. That and putting the pieces back together again. The reason we\n",
    "break up big jobs has to do with computational resources, specifically memory (i.e. RAM) and processors (i.e. CPUs or GPUs).\n",
    "That big collection of OCI granules can't all fit in memory; and even if it could, your computation might only use one\n",
    "of several available processors.\n",
    "\n",
    "This notebook works towards a better understanding of a tool tightly integrated with XArray that is designed to handle the\n",
    "challenges of effectively creating and managing these jobs. The tool is [Dask: a Python library for parallel and distributed computing][dask].\n",
    "Before diving into Dask, the notebook gets started with an even more foundational concept for performant computing: using\n",
    "compiled functions that are typically not even written in Python.\n",
    "\n",
    "## Learning Objectives\n",
    "\n",
    "At the end of this notebook you will know:\n",
    "\n",
    "- The importance of using high-performance functions to do array operations\n",
    "- How to start a `dask` client for parallel and larger-than-memory pipelines\n",
    "- One method for interpolating Level-2 \"swath\" data to a map projection\n",
    "\n",
    "## Contents\n",
    "\n",
    "1. [Setup](#1.-Setup)\n",
    "2. [Compiled Functions](#2.-Compiled-Functions)\n",
    "3. [Split-Apply-Combine](#3.-Split-Apply-Combine)\n",
    "4. [Stacking Level-2 Granules](#4.-Stacking-Level-2-Granules)\n",
    "\n",
    "[oci-data-access]: https://oceancolor.gsfc.nasa.gov/resources/docs/tutorials/notebooks/oci_data_access\n",
    "[oci-ocssw-processing]: https://oceancolor.gsfc.nasa.gov/resources/docs/tutorials/notebooks/oci-ocssw-processing\n",
    "[dask]: https://docs.dask.org"
   ]
  },
  {
   "cell_type": "markdown",
   "id": "3b6f9899",
   "metadata": {},
   "source": [
    "## 1. Setup\n",
    "\n",
    "Begin by importing all of the packages used in this notebook. If your kernel uses an environment defined following the guidance on the [tutorials] page, then the imports will be successful.\n",
    "\n",
    "[tutorials]: https://oceancolor.gsfc.nasa.gov/resources/docs/tutorials/"
   ]
  },
  {
   "cell_type": "code",
   "execution_count": null,
   "id": "606ad4f3",
   "metadata": {},
   "outputs": [],
   "source": [
    "import dask.array as da\n",
    "from   dask.distributed import Client\n",
    "import cartopy.crs as ccrs\n",
    "import earthaccess\n",
    "from   matplotlib.patches import Rectangle\n",
    "import matplotlib.pyplot as plt\n",
    "import numba\n",
    "import numpy as np\n",
    "import pyproj\n",
    "from   scipy.interpolate import griddata\n",
    "import xarray as xr\n",
    "from   xarray.backends.api import open_datatree"
   ]
  },
  {
   "cell_type": "markdown",
   "id": "b7e81a13",
   "metadata": {},
   "source": [
    "We will discuss `dask` in more detail below, but we use several additional packages that are worth their own tutorials:\n",
    "- `scipy` is a massive collection of useful numerical methods, including a function that resamples irregularly spaced values onto regular (i.e. gridded) coordinates\n",
    "- `numba` can convert many Python functions to make them run faster\n",
    "- `pyproj` is a database and suite of algorithms for converting between geospatial coordinate reference systems\n",
    "\n",
    "[SatPy](https://satpy.readthedocs.io/) is another Python package that could be useful for the processing demonstrated in this notebok, especially through its [Pyresample](https://pyresample.readthedocs.io/) toolking. SatPy requires dedicated readers for any given instrument, however, and no readers have been created for PACE.\n",
    "\n",
    "Yet another package we are skipping over is [rasterio](https://rasterio.readthedocs.io/), which is a high-level wrapper for GDAL. Unfortuneately, the GDAL tooling for using \"warp\" with geolocation arrays has not been released in `rasterio.warp`.\n",
    "\n",
    "The data used in the demonstration is the `chlor_a` product found in the BGC suite of Level-2 ocean color products from OCI."
   ]
  },
  {
   "cell_type": "code",
   "execution_count": null,
   "id": "2548f056",
   "metadata": {},
   "outputs": [],
   "source": [
    "bbox = (-77, 36, -73, 41)\n",
    "results = earthaccess.search_data(\n",
    "    short_name=\"PACE_OCI_L2_BGC_NRT\",\n",
    "    temporal=(None, \"2024-07\"),\n",
    "    bounding_box=bbox,\n",
    ")\n",
    "len(results)"
   ]
  },
  {
   "cell_type": "markdown",
   "id": "8461f15e",
   "metadata": {},
   "source": [
    "The search results include all granules from launch through July of 2024 that intersect a bounding box around the Chesapeake and Delaware Bays. The region is much smaller than an OCI swath, so we do not use the cloud cover search filter which considers the whole swath."
   ]
  },
  {
   "cell_type": "code",
   "execution_count": null,
   "id": "faa20fb5",
   "metadata": {},
   "outputs": [],
   "source": [
    "results[0]"
   ]
  },
  {
   "cell_type": "code",
   "execution_count": null,
   "id": "8ddaf48d",
   "metadata": {},
   "outputs": [],
   "source": [
    "paths = earthaccess.open(results[:1])"
   ]
  },
  {
   "cell_type": "code",
   "execution_count": null,
   "id": "ff78fc1a",
   "metadata": {},
   "outputs": [],
   "source": [
    "datatree = open_datatree(paths[0])\n",
    "dataset = xr.merge(datatree.to_dict().values())\n",
    "dataset = dataset.set_coords((\"latitude\", \"longitude\"))\n",
    "dataset"
   ]
  },
  {
   "cell_type": "markdown",
   "id": "6ed59b2d",
   "metadata": {},
   "source": [
    "As a reminder, the Level-2 data has latitude and longitude arrays that give the geolocation of every pixel. The `number_of_line` and `pixels_per_line` dimensions don't have any meaningful coordinates that would be useful for stacking Level-2 files over time.  In a lot of the granules, like the one visualized here, there will be a tiny amount of data within the box. But we don't want to lose a single pixel (if we can help it)!"
   ]
  },
  {
   "cell_type": "code",
   "execution_count": null,
   "id": "d90721ea",
   "metadata": {},
   "outputs": [],
   "source": [
    "fig = plt.figure(figsize=(8, 4))\n",
    "axes = fig.add_subplot()\n",
    "artist = dataset[\"chlor_a\"].plot.pcolormesh(x=\"longitude\", y=\"latitude\", robust=True, ax=axes)\n",
    "axes.add_patch(Rectangle(bbox[:2], bbox[2]-bbox[0], bbox[3]-bbox[1], edgecolor=\"red\", facecolor=\"none\"))\n",
    "axes.set_aspect(\"equal\")\n",
    "plt.show()"
   ]
  },
  {
   "cell_type": "markdown",
   "id": "488521b6",
   "metadata": {},
   "source": [
    "When we get to opening mulitple datasets, we will use a helper function to prepare the datasets for concatenation."
   ]
  },
  {
   "cell_type": "code",
   "execution_count": null,
   "id": "56d4bc07",
   "metadata": {},
   "outputs": [],
   "source": [
    "def time_from_attr(ds):\n",
    "    \"\"\"Set the time attribute as a dataset variable\n",
    "\n",
    "    Args:\n",
    "        ds: a dataset corresponding to a Level-2 granule\n",
    "\n",
    "    Returns:\n",
    "        the dataset with a scalar \"time\" coordinate\n",
    "    \"\"\"\n",
    "    datetime = ds.attrs[\"time_coverage_start\"].replace(\"Z\", \"\")\n",
    "    ds[\"time\"] = ((), np.datetime64(datetime, \"ns\"))\n",
    "    ds = ds.set_coords(\"time\")\n",
    "    return ds\n",
    "\n",
    "def trim_number_of_lines(ds):\n",
    "    ds = ds.isel({\"number_of_lines\": slice(0, 1709)})\n",
    "    return ds"
   ]
  },
  {
   "cell_type": "markdown",
   "id": "9291236b",
   "metadata": {},
   "source": [
    "Before we get to data, we will play with some random numbers. Whenever you use random numbers, a good practice is to set a fixed but unique seed, such as the result of `secrets.randbits(64)`."
   ]
  },
  {
   "cell_type": "code",
   "execution_count": null,
   "id": "9ca83b7c",
   "metadata": {},
   "outputs": [],
   "source": [
    "random = np.random.default_rng(seed=5179916885778238210)"
   ]
  },
  {
   "cell_type": "markdown",
   "id": "49407105",
   "metadata": {},
   "source": [
    "[back to top](#Contents)"
   ]
  },
  {
   "cell_type": "markdown",
   "id": "4ec7bafb",
   "metadata": {},
   "source": [
    "## 2. Compiled Functions\n",
    "\n",
    "Before diving in to OCI data, we should discuss two important considerations for when you are trying to improve performance (a.k.a. your processing is taking longer than you would like).\n",
    "\n",
    "1. Am I using compiled functions?\n",
    "2. Can I use compiled functions in a split-apply-combine pipeline?\n",
    "\n",
    "When you wrie a function in Python, there is not usually any compilation step like you encounter when writing functions in C/C++ or Fortran. Compilation converts code written in a human-readable language to a machine-readable language. It does this once, and then you use the resulting compiled function\n",
    "repeatedly. That does not happen in Python for added flexibility and ease of programming, but it has a performance cost.\n",
    "\n",
    "A simple way to measure performance (i.e. speed) in notebooks is to use the [IPython %%timeit magic][timeit]. Begin any cell\n",
    "with `%%timeit` on a line by itself to trigger that cell to run many times under a timer and print a summary\n",
    "of how long it takes the cell to run on average.\n",
    "\n",
    "[timeit]: https://ipython.readthedocs.io/en/stable/interactive/magics.html#magic-timeit"
   ]
  },
  {
   "cell_type": "code",
   "execution_count": null,
   "id": "ea8def1b",
   "metadata": {},
   "outputs": [],
   "source": [
    "%%timeit\n",
    "n = 10_000\n",
    "x = 0\n",
    "for i in range(n):\n",
    "    x = x + i\n",
    "x / n"
   ]
  },
  {
   "cell_type": "markdown",
   "id": "33429b46",
   "metadata": {},
   "source": [
    "The for-loop in that example could be replaced with a compiled function that calculates the mean of a range.\n",
    "Python is an interpretted language; there is no step during evaluation that compiles code written in Python\n",
    "to a lower-level language for your operating system. However, we can call functions from packages that\n",
    "are already compiled, such as the `numpy.mean` function. In fact, we can even use the `numba` \"just-in-time\"\n",
    "compiler to make our own compiled functions."
   ]
  },
  {
   "cell_type": "markdown",
   "id": "b94bbed0",
   "metadata": {},
   "source": [
    "When you are interested in performance improvements for data processing, the first tool\n",
    "in your kit is compiled functions. If you use NumPy, you have already checked this box.\n",
    "However, since you may sometimes need `numba`, we're going to start with a comparison\n",
    "of functions written in and interpreted by Python with the use of compiled functions."
   ]
  },
  {
   "cell_type": "code",
   "execution_count": null,
   "id": "ff19fb7b",
   "metadata": {},
   "outputs": [],
   "source": [
    "def mean_and_std(x):\n",
    "    \"\"\"Compute sample statistics with a for-loop.\n",
    "\n",
    "    Args:\n",
    "      x: One-dimensional array of numbers.\n",
    "\n",
    "    Returns:\n",
    "      A 2-tuple with the mean and standard deviation.\n",
    "    \"\"\"    \n",
    "    # initialize sum (s) and sum-of-squares (ss)\n",
    "    s = 0\n",
    "    ss = 0\n",
    "    # calculate s and ss by iterating over x\n",
    "    for i in x:\n",
    "        s += i\n",
    "        ss += i**2\n",
    "    # mean and std. dev. calculations\n",
    "    n = x.size\n",
    "    mean = s / n\n",
    "    variance = (ss / n - mean ** 2) * n / (n - 1)\n",
    "    return mean, variance ** (1/2)"
   ]
  },
  {
   "cell_type": "markdown",
   "id": "d59302bc",
   "metadata": {},
   "source": [
    "Confirm the function is working; it should return approximations to\n",
    "the mean and standard deviation parameters of the normal\n",
    "distribution we use to generate the sample."
   ]
  },
  {
   "cell_type": "code",
   "execution_count": null,
   "id": "5fff7e1f",
   "metadata": {},
   "outputs": [],
   "source": [
    "array = random.normal(1, 2, size=100)\n",
    "mean_and_std(array)"
   ]
  },
  {
   "cell_type": "markdown",
   "id": "aac70566",
   "metadata": {},
   "source": [
    "The approximation isn't very good for a small sample! We are motivated\n",
    "to use a very big array, say $10^{4}$ numbers, and will compare performance\n",
    "using different tools."
   ]
  },
  {
   "cell_type": "code",
   "execution_count": null,
   "id": "a763adcf",
   "metadata": {},
   "outputs": [],
   "source": [
    "array = random.normal(1, 2, size=10_000)"
   ]
  },
  {
   "cell_type": "code",
   "execution_count": null,
   "id": "6707fe77",
   "metadata": {},
   "outputs": [],
   "source": [
    "%%timeit\n",
    "mean_and_std(array)"
   ]
  },
  {
   "cell_type": "markdown",
   "id": "cc8c6465",
   "metadata": {},
   "source": [
    "On this system, the baseline implementation takes between 2 and 3 milliseconds. The `numba.njit` method\n",
    "will attempt to compile a Python function and raise an error if it can't. The argument to `numba.njit`\n",
    "is the Python function, and the return value is the compiled function."
   ]
  },
  {
   "cell_type": "code",
   "execution_count": null,
   "id": "5feb56b4",
   "metadata": {},
   "outputs": [],
   "source": [
    "compiled_mean_and_std = numba.njit(mean_and_std)"
   ]
  },
  {
   "cell_type": "markdown",
   "id": "01a12c9c",
   "metadata": {},
   "source": [
    "The actual compilation does not occur until the function is called with an argument. This is how mahine-language works, it needs to\n",
    "know the type of data coming in before any performance improvements can be realized. As a result, the first call to `compiled_mean_and_std`\n",
    "will not seem very fast."
   ]
  },
  {
   "cell_type": "code",
   "execution_count": null,
   "id": "8cb70641",
   "metadata": {},
   "outputs": [],
   "source": [
    "compiled_mean_and_std(array)"
   ]
  },
  {
   "cell_type": "markdown",
   "id": "11fd4616",
   "metadata": {},
   "source": [
    "But now look at that function go!"
   ]
  },
  {
   "cell_type": "code",
   "execution_count": null,
   "id": "d25d6470",
   "metadata": {},
   "outputs": [],
   "source": [
    "%%timeit\n",
    "compiled_mean_and_std(array)"
   ]
  },
  {
   "cell_type": "markdown",
   "id": "d57830a6",
   "metadata": {},
   "source": [
    "But why write your own functions when an existing compiled function can do what you need well enough?"
   ]
  },
  {
   "cell_type": "code",
   "execution_count": null,
   "id": "e6a713af",
   "metadata": {},
   "outputs": [],
   "source": [
    "%%timeit\n",
    "array.mean(), array.std(ddof=1)"
   ]
  },
  {
   "cell_type": "markdown",
   "id": "60733a85",
   "metadata": {},
   "source": [
    "The takeaway message from this brief introduction is:\n",
    "- `numpy` is fast because it uses efficient, compiled code to do array operations\n",
    "- `numpy` may not have a function that does exactly what you want, so you do have `numba.njit` as a fallback\n",
    "\n",
    "Living with what `numpy` can already do is usually good enough, even if a custom function could have a small edge in performance. Moreover, what you\n",
    "can do with `numpy` you can do with `dask.array`, and that opens up a lot of opportunity for processing large amounts of data without\n",
    "writing your own numerical methods."
   ]
  },
  {
   "cell_type": "markdown",
   "id": "f1c097df",
   "metadata": {},
   "source": [
    "[back to top](#Contents)"
   ]
  },
  {
   "cell_type": "markdown",
   "id": "545b0af7",
   "metadata": {},
   "source": [
    "## 3. Split-Apply-Combine\n",
    "\n",
    "The split-apply-combine framework is everywhere in data processing. A simple case is computing group-wise means on a dataset where one variable defines the group and another variable is what you need to average for each group.\n",
    "\n",
    "1. **split**: divide the array into smaller arrays, one for each group\n",
    "2. **apply**: calculte the mean\n",
    "3. **combine**: reassemble the results into a single (smaller due to aggregation) dataset\n",
    "\n",
    "The same framework is also used without a natural group by which a dataset should be divided. The split is on equal-sized slices of the original dataset, which we call \"chunks\". Rather than a group-wise mean, you could use \"chunk-apply-combine\" to calculate the grand mean in chunks\n",
    "\n",
    "1. **chunk**: divide the array into smaller arrays, or \"chunks\"\n",
    "2. **apply**: calculate the mean and sample size of each chunk (i.e. skipping missing values)\n",
    "3. **combine**: combine the size-weighted means to compute the mean of the whole array\n",
    "\n",
    "The apply and combine steps have to be capable of calculating results on a slice that can be combined to equal the result you would have gotten on the full array. If a computation can be shoved through \"chunk-apply-combine\" (see also \"map-reduce\"), then we can process an array that is too big to read into memory at once. We can also distribute the computation across processors or across a cluster of computers.\n",
    "\n",
    "We can represent the framework visually using a task graph, a collection of functions (nodes) linked through input and output data (edges)."
   ]
  },
  {
   "cell_type": "markdown",
   "id": "043dea79",
   "metadata": {},
   "source": [
    "```mermaid\n",
    "flowchart LR\n",
    "\n",
    "A(random.normal) -->|array| B(mean_and_std)\n",
    "```"
   ]
  },
  {
   "cell_type": "markdown",
   "id": "379ac90e",
   "metadata": {},
   "source": [
    "The output of the `random.normal` function becomes the input to the `mean_and_std` function. We can decide to use chunk-apply-combine\n",
    "if either:\n",
    "\n",
    "1. `array` is going to be larger than available memory\n",
    "1. `mean_and_std` can be accurately calculated from intermediate results on slices of `array`"
   ]
  },
  {
   "cell_type": "markdown",
   "id": "a764fd4a",
   "metadata": {},
   "source": [
    "By the way, `numpy` arrays have an `nbytes` attribute that helps you understand how much memory you may need. Note tha most computations require several times the size of an input array to do the math."
   ]
  },
  {
   "cell_type": "code",
   "execution_count": null,
   "id": "e078db9e",
   "metadata": {},
   "outputs": [],
   "source": [
    "f\"{array.nbytes / 2**20} MiB\""
   ]
  },
  {
   "cell_type": "markdown",
   "id": "9ee7ef60",
   "metadata": {},
   "source": [
    "That's not a big array. Here's a \"big\" 1.0 GiB array."
   ]
  },
  {
   "cell_type": "code",
   "execution_count": null,
   "id": "987b813b",
   "metadata": {},
   "outputs": [],
   "source": [
    "array = random.normal(1, 2, size=2**27)\n",
    "print(f\"{array.nbytes / 2**30} GiB\")"
   ]
  },
  {
   "cell_type": "markdown",
   "id": "41f32e05",
   "metadata": {},
   "source": [
    "It's still not too big to fit in memory on most laptops. For demonstration, let's assume we could fit a 1.0 GiB array into memory, but not a 3 GiB array. We will calculate the mean of a 3 GiB array, using 3 splits each of size 1 GiB in a serial pipeline. (Simultaneously calculating the standard deviation is left as an exercise for the reader.)\n",
    "\n",
    "On this system, the serial approach takes between 8 and 9 seconds."
   ]
  },
  {
   "cell_type": "code",
   "execution_count": null,
   "id": "022af0a7",
   "metadata": {},
   "outputs": [],
   "source": [
    "%%timeit\n",
    "\n",
    "n = 3\n",
    "s = 0\n",
    "for _ in range(n):\n",
    "    array = random.normal(1, 2, size=2**27)\n",
    "    s += array.mean()\n",
    "mean = s / n"
   ]
  },
  {
   "cell_type": "markdown",
   "id": "94ec4c06",
   "metadata": {},
   "source": [
    "All we were able to implement was serial computation, but we have multiple processors availble. When we visualize the task graph for the computation, it's apparent that running the calculation serially might not have been the most performant strategy."
   ]
  },
  {
   "cell_type": "markdown",
   "id": "16abcee5",
   "metadata": {},
   "source": [
    "```mermaid\n",
    "%%{ init: { 'flowchart': { 'curve': 'monotoneY' } } }%%\n",
    "\n",
    "flowchart LR\n",
    "\n",
    "A(random.normal) -->|array| B(split)\n",
    "B -->|array_0| C0(apply-mean_and_std)\n",
    "B -->|array_1| C1(apply-mean_and_std)\n",
    "B -->|array_2| C2(apply-mean_and_std)\n",
    "subgraph SCHEDULER\n",
    "C0\n",
    "C1\n",
    "C2\n",
    "end\n",
    "C0 -->|result_0| D(combine-mean_and_std)\n",
    "C1 -->|result_1| D\n",
    "C2 -->|result_2| D\n",
    "```"
   ]
  },
  {
   "cell_type": "markdown",
   "id": "22d06aad",
   "metadata": {},
   "source": [
    "In this task graph, the `mean_and_std` deviation function is never used! Somehow, the `apply-mean_and_std` function and `combine-mean_and_std` deviation functions have to be defined. This is another part of what Dask provides."
   ]
  },
  {
   "cell_type": "code",
   "execution_count": null,
   "id": "fe21e525",
   "metadata": {},
   "outputs": [],
   "source": [
    "client = Client(processes=False, memory_limit=\"3 GiB\")\n",
    "client"
   ]
  },
  {
   "cell_type": "code",
   "execution_count": null,
   "id": "97368686",
   "metadata": {},
   "outputs": [],
   "source": [
    "dask_random = da.random.default_rng(random)"
   ]
  },
  {
   "cell_type": "code",
   "execution_count": null,
   "id": "d7a1d17e",
   "metadata": {},
   "outputs": [],
   "source": [
    "dask_array = dask_random.normal(1, 2, size=3*2**27, chunks=\"32 MiB\")\n",
    "dask_array"
   ]
  },
  {
   "cell_type": "code",
   "execution_count": null,
   "id": "7cea2b53",
   "metadata": {},
   "outputs": [],
   "source": [
    "dask_array.mean()"
   ]
  },
  {
   "cell_type": "code",
   "execution_count": null,
   "id": "d6a90c83",
   "metadata": {},
   "outputs": [],
   "source": [
    "%%timeit\n",
    "mean = dask_array.mean().compute()"
   ]
  },
  {
   "cell_type": "markdown",
   "id": "19cfb747",
   "metadata": {},
   "source": [
    "We just demonstrated two ways of doing larger-than-memory calculations.\n",
    "\n",
    "Our synchronous implemenation (using a for loop) took the strategy of maximizing the use of available memory while processing one chunk: so we used 1 GiB chunks, requiring 3 chunks to get to a 3 GiB array.\n",
    "\n",
    "Our concurrent implementation (using `dask.array`), took the strategy of maximizing the use of available processors: so we used small chunks of 32 MiB, requiring many chunks to get to a 3 GiB array.\n",
    "\n",
    "The concurrent implementation was a little more than twice as fast."
   ]
  },
  {
   "cell_type": "code",
   "execution_count": null,
   "id": "486eca7e",
   "metadata": {},
   "outputs": [],
   "source": [
    "client.close()"
   ]
  },
  {
   "cell_type": "markdown",
   "id": "c1e6292c",
   "metadata": {},
   "source": [
    "[back to top](#Contents)"
   ]
  },
  {
   "cell_type": "markdown",
   "id": "ffeed7a0",
   "metadata": {},
   "source": [
    "## 4. Stacking Level-2 Granules\n",
    "\n",
    "The integration of XArray and Dask is designed to let you work without doing very much different. Of course, there is still a lot of work to do when writing any processing\n",
    "pipeline on a collection of Level-2 granules. Stacking them over time, for instance, may\n",
    "sound easy but requires resampling the data to a common grid. This section demonstrates\n",
    "one method for stacking Level-2 granules.\n",
    "\n",
    "1. Choose a projection for a common grid\n",
    "1. Get geographic coordinates that correspond to the projected coordinates\n",
    "1. Resample each granule to the new coordinate\n",
    "1. Stack results along the time dimension\n",
    "\n",
    "Use `pyproj` for the first two steps, noting that the EPSG code of the coordinate reference system (CRS) of the Level-2 files is not recorded in the files. Know that it is the universal default for a CRS with latitudes and longitudes: \"EPSG:4326\"."
   ]
  },
  {
   "cell_type": "code",
   "execution_count": null,
   "id": "8c3eed98",
   "metadata": {},
   "outputs": [],
   "source": [
    "aoi = pyproj.aoi.AreaOfInterest(*bbox)"
   ]
  },
  {
   "cell_type": "code",
   "execution_count": null,
   "id": "d6fee0af",
   "metadata": {},
   "outputs": [],
   "source": [
    "pyproj.CRS.from_epsg(4326)"
   ]
  },
  {
   "cell_type": "markdown",
   "id": "abf63b06",
   "metadata": {},
   "source": [
    "The `pyproj` database contains all the UTM grids and helps us choose the best one for our AOI."
   ]
  },
  {
   "cell_type": "code",
   "execution_count": null,
   "id": "a1632e46",
   "metadata": {},
   "outputs": [],
   "source": [
    "crs_list = pyproj.database.query_utm_crs_info(datum_name=\"WGS 84\", area_of_interest=aoi, contains=True)\n",
    "for i in crs_list:\n",
    "    print(i.auth_name, i.code, \": \", i.name)"
   ]
  },
  {
   "cell_type": "code",
   "execution_count": null,
   "id": "62c27acb",
   "metadata": {},
   "outputs": [],
   "source": [
    "pyproj.CRS.from_epsg(32618)"
   ]
  },
  {
   "cell_type": "markdown",
   "id": "cb0a1b16",
   "metadata": {},
   "source": [
    "Note that the axis order for EPSG:4326 is (\"Lat\", \"Lon\"), which is \"backwards\" from the \"X\", \"Y\" used by EPSG:32618. When we use a CRS transformer, this defines the order of arguments."
   ]
  },
  {
   "cell_type": "code",
   "execution_count": null,
   "id": "67ec052b",
   "metadata": {},
   "outputs": [],
   "source": [
    "t = pyproj.Transformer.from_crs(\"EPSG:4326\", \"EPSG:32618\", area_of_interest=aoi)"
   ]
  },
  {
   "cell_type": "code",
   "execution_count": null,
   "id": "5d793de2",
   "metadata": {},
   "outputs": [],
   "source": [
    "x_min, y_min = t.transform(aoi.south_lat_degree, aoi.west_lon_degree)\n",
    "x_min, y_min"
   ]
  },
  {
   "cell_type": "code",
   "execution_count": null,
   "id": "458b3147",
   "metadata": {},
   "outputs": [],
   "source": [
    "x_max, y_max = t.transform(aoi.north_lat_degree, aoi.east_lon_degree)\n",
    "x_max, y_max"
   ]
  },
  {
   "cell_type": "markdown",
   "id": "3bf5a7df",
   "metadata": {},
   "source": [
    "Create x, y grid as a new `xarray.Dataset` but then `stack` it into a 1D array of points."
   ]
  },
  {
   "cell_type": "code",
   "execution_count": null,
   "id": "1ca672c3",
   "metadata": {},
   "outputs": [],
   "source": [
    "x_size = int((x_max - x_min) // 1000)\n",
    "y_size = int((y_max - y_min) // 1000)\n",
    "grid_point = xr.Dataset({\n",
    "    \"x\": (\"x\", np.linspace(x_min, x_max, x_size)),\n",
    "    \"y\": (\"y\", np.linspace(y_min, y_max, y_size))\n",
    "})\n",
    "grid_point = grid_point.stack({\"point\": [\"x\", \"y\"]})\n",
    "grid_point"
   ]
  },
  {
   "cell_type": "markdown",
   "id": "f64177c1",
   "metadata": {},
   "source": [
    "To find corresponding latitudes and longitudes in \"EPSG:4326\", do the inverse transformation paying attention to the order of arguments and outputs."
   ]
  },
  {
   "cell_type": "code",
   "execution_count": null,
   "id": "29c9ce8e",
   "metadata": {},
   "outputs": [],
   "source": [
    "lat, lon = t.transform(grid_point[\"x\"], grid_point[\"y\"], direction=\"INVERSE\")"
   ]
  },
  {
   "cell_type": "code",
   "execution_count": null,
   "id": "f568f1cd",
   "metadata": {},
   "outputs": [],
   "source": [
    "grid_point[\"lat\"] = (\"point\", lat)\n",
    "grid_point[\"lon\"] = (\"point\", lon)\n",
    "grid_point"
   ]
  },
  {
   "cell_type": "code",
   "execution_count": null,
   "id": "499a7188",
   "metadata": {},
   "outputs": [],
   "source": [
    "grid_latlon = grid_point.to_dataarray(\"axis\").transpose(\"point\", ...)"
   ]
  },
  {
   "cell_type": "markdown",
   "id": "abadb42c",
   "metadata": {},
   "source": [
    "Instead of opening a single granule with `xr.open_dataset`, open all of the granules with `xr.open_mfdataset`. Use the `time_from_attr` function defined above to populate a `time` coordinate from the attributes on each granule."
   ]
  },
  {
   "cell_type": "code",
   "execution_count": null,
   "id": "38e2ecd6",
   "metadata": {},
   "outputs": [],
   "source": [
    "paths = earthaccess.open(results[10:20])"
   ]
  },
  {
   "cell_type": "code",
   "execution_count": null,
   "id": "7cad9d31",
   "metadata": {},
   "outputs": [],
   "source": [
    "kwargs = {\"combine\": \"nested\", \"concat_dim\": \"time\"}\n",
    "prod = xr.open_mfdataset(paths, preprocess=time_from_attr, **kwargs)\n",
    "nav = xr.open_mfdataset(paths, preprocess=trim_number_of_lines, group=\"navigation_data\", **kwargs)\n",
    "sci = xr.open_mfdataset(paths, preprocess=trim_number_of_lines, group=\"geophysical_data\", **kwargs)\n",
    "dataset = xr.merge((prod, nav, sci))\n",
    "dataset"
   ]
  },
  {
   "cell_type": "markdown",
   "id": "f988e0fc",
   "metadata": {},
   "source": [
    "Notice that using `xr.open_mfdataset` automatically triggers the use of `dask.array` instead of `numpy` for the variables. To get a dashboard, load up the Dask client."
   ]
  },
  {
   "cell_type": "code",
   "execution_count": null,
   "id": "be670823",
   "metadata": {},
   "outputs": [],
   "source": [
    "client = Client(processes=False)\n",
    "client"
   ]
  },
  {
   "cell_type": "markdown",
   "id": "d28a2fe9",
   "metadata": {},
   "source": [
    "Disclaimer: the most generic function that we have available to resample the dataset is `scipy.interpolate.griddata`. This is not specialized for geospatial resampling, so there is likely a better way to do this using `pyresample` or `rasterio.warp`.\n",
    "\n",
    "Due to limitations of `griddata` however, we have to work in a loop. For each slice over the time dimension (i.e. each file), the loop is going to collect that latitudesa and longitudes as `swath_latlon`, resample to `grid_latlon` (which has regular spacing in the projected CRS), and store the result in a list of `xr.DataArray`."
   ]
  },
  {
   "cell_type": "code",
   "execution_count": null,
   "id": "9c81d5e5",
   "metadata": {},
   "outputs": [],
   "source": [
    "groups = []\n",
    "for key, value in dataset.groupby(\"time\"):\n",
    "    value = value.squeeze(\"time\")\n",
    "    swath_pixel = value.stack({\"point\": [\"number_of_lines\", \"pixels_per_line\"]}, create_index=False)\n",
    "    swath_latlon = swath_pixel[[\"latitude\", \"longitude\"]].to_dataarray(\"axis\").transpose(\"point\", ...)\n",
    "    gridded = griddata(swath_latlon, swath_pixel[\"chlor_a\"], grid_latlon)\n",
    "    gridded = xr.DataArray(gridded, dims=\"point\")\n",
    "    gridded = gridded.expand_dims({\"time\": [key]})\n",
    "    groups.append(gridded)"
   ]
  },
  {
   "cell_type": "code",
   "execution_count": null,
   "id": "2e436691",
   "metadata": {},
   "outputs": [],
   "source": [
    "groups[-1]"
   ]
  },
  {
   "cell_type": "markdown",
   "id": "f91689ad",
   "metadata": {},
   "source": [
    "Then there is the final step of getting the whole collection concatenated together and associated with the projected CRS (the `x` and `y` coordinates)."
   ]
  },
  {
   "cell_type": "code",
   "execution_count": null,
   "id": "d80849e0",
   "metadata": {},
   "outputs": [],
   "source": [
    "grid_point[\"chlor_a\"] = xr.concat(groups, dim=\"time\")\n",
    "dataset = grid_point.unstack()\n",
    "dataset"
   ]
  },
  {
   "cell_type": "markdown",
   "id": "9ec5227e",
   "metadata": {},
   "source": [
    "After viewing a map at individual time slices in projected coordinates, you can decide what to do for your next step of analysis. Some of the granules will have good coverage, free of clouds."
   ]
  },
  {
   "cell_type": "code",
   "execution_count": null,
   "id": "66b380c9",
   "metadata": {},
   "outputs": [],
   "source": [
    "dataset_t = dataset.isel({\"time\": 4})"
   ]
  },
  {
   "cell_type": "code",
   "execution_count": null,
   "id": "7e932764",
   "metadata": {},
   "outputs": [],
   "source": [
    "fig = plt.figure()\n",
    "crs = ccrs.UTM(18, southern_hemisphere=False)\n",
    "axes = plt.axes(projection=crs)\n",
    "artist = dataset_t[\"chlor_a\"].plot.imshow(x=\"x\", y=\"y\", robust=True, ax=axes)\n",
    "axes.gridlines(draw_labels={\"left\": \"y\", \"bottom\": \"x\"})\n",
    "axes.coastlines()\n",
    "plt.show()"
   ]
  },
  {
   "cell_type": "markdown",
   "id": "54dbf52c",
   "metadata": {},
   "source": [
    "Many will not, either because of clouds or because only some portion of the specified bounding box is within the given swath."
   ]
  },
  {
   "cell_type": "code",
   "execution_count": null,
   "id": "f903626a",
   "metadata": {},
   "outputs": [],
   "source": [
    "dataset_t = dataset.isel({\"time\": 8})\n",
    "\n",
    "fig = plt.figure()\n",
    "crs = ccrs.UTM(18, southern_hemisphere=False)\n",
    "axes = plt.axes(projection=crs)\n",
    "artist = dataset_t[\"chlor_a\"].plot.imshow(x=\"x\", y=\"y\", robust=True, ax=axes)\n",
    "axes.gridlines(draw_labels={\"left\": \"y\", \"bottom\": \"x\"})\n",
    "axes.coastlines()\n",
    "plt.show()"
   ]
  },
  {
   "cell_type": "markdown",
   "id": "862ff38f",
   "metadata": {},
   "source": [
    "[back to top](#Contents)"
   ]
  }
 ],
 "metadata": {
  "language_info": {
   "name": "python"
  }
 },
 "nbformat": 4,
 "nbformat_minor": 5
}
